{
 "cells": [
  {
   "cell_type": "code",
   "execution_count": null,
   "metadata": {
    "collapsed": true
   },
   "outputs": [],
   "source": [
    "import h5py\n",
    "from sklearn.model_selection import train_test_split\n",
    "import numpy as np\n",
    "#from getdata import load\n",
    "from keras.models import Sequential\n",
    "from keras.layers import Dense, Dropout, Activation, Flatten\n",
    "from keras.layers import Convolution2D, MaxPooling2D\n",
    "from keras.optimizers import SGD\n",
    "from keras.callbacks import ModelCheckpoint\n",
    "from sklearn.metrics import matthews_corrcoef\n",
    "from sklearn.metrics import hamming_loss\n",
    "from keras import backend as K\n",
    "import cv2\n",
    "import scipy.io as sio\n",
    "import os\n",
    "from skimage import io\n",
    "from skimage.transform import resize\n",
    "import pandas as pd\n",
    "K.set_image_dim_ordering('th')\n"
   ]
  },
  {
   "cell_type": "code",
   "execution_count": null,
   "metadata": {
    "collapsed": true
   },
   "outputs": [],
   "source": [
    "train_photos = pd.read_csv('D:/Share_Folder/Pace_3rd_Sem/Big_Data_Analytics/Project Files/train_photo_to_biz_ids.csv',\n",
    "                           names=[\"photo_id\",\"business_id\"],header=None)\n",
    "train_attr = pd.read_csv('D:/Share_Folder/Pace_3rd_Sem/Big_Data_Analytics/Project Files/train.csv',\n",
    "                         header=None,names=[\"business_id\",\"labels\"])\n",
    "train_id = pd.read_csv('D:/Share_Folder/Pace_3rd_Sem/Big_Data_Analytics/Project Files/train_photo_to_biz_ids.csv',\n",
    "                       header=None,names=[\"photo_id\",\"business_id\"]) \n",
    "test_photos = pd.read_csv('D:/Share_Folder/Pace_3rd_Sem/Big_Data_Analytics/Project Files/test_photo_to_biz.csv',\n",
    "                          header=None,names=[\"photo_id\",\"business_id\"])\n",
    "\n",
    "append = pd.read_csv('D:/Share_Folder/Pace_3rd_Sem/Big_Data_Analytics/Project Files/append.csv',\n",
    "                     header=None, names=[\"photo_id\",\"business_id\",\"labels\"])\n"
   ]
  },
  {
   "cell_type": "code",
   "execution_count": null,
   "metadata": {
    "collapsed": true
   },
   "outputs": [],
   "source": [
    "append_X = append.photo_id\n",
    "append_y = append['labels']\n"
   ]
  },
  {
   "cell_type": "code",
   "execution_count": null,
   "metadata": {
    "collapsed": true
   },
   "outputs": [],
   "source": [
    "np.random.seed(456)\n",
    "indices=np.random.permutation(len(append))\n",
    "x_train=append_X[indices[:187873]]\n",
    "y_train=append_y[indices[:187873]]\n",
    "x_val=append_X[indices[187873:211357]]\n",
    "y_val=append_y[indices[187873:211357]]\n",
    "x_test=append_X[indices[211357:]]\n",
    "y_test=append_y[indices[211357:]]"
   ]
  },
  {
   "cell_type": "code",
   "execution_count": null,
   "metadata": {
    "collapsed": true
   },
   "outputs": [],
   "source": [
    "train_yelp = pd.DataFrame({'photo_id':x_train,'labels':y_train})\n",
    "val_yelp = pd.DataFrame({'photo_id':x_val,'labels':y_val})\n",
    "test_yelp = pd.DataFrame({'photo_id':x_test,'labels':y_test})"
   ]
  },
  {
   "cell_type": "code",
   "execution_count": null,
   "metadata": {
    "collapsed": true
   },
   "outputs": [],
   "source": [
    "#train_yelp.head()\n",
    "train_yelp.to_csv('train_yelp.csv',sep='\\t',encoding='utf-8')\n",
    "val_yelp.to_csv('val_yelp.csv',sep='\\t',encoding='utf-8')\n",
    "test_yelp.to_csv('test_yelp.csv',sep='\\t',encoding='utf-8')"
   ]
  },
  {
   "cell_type": "code",
   "execution_count": null,
   "metadata": {
    "collapsed": true
   },
   "outputs": [],
   "source": [
    "#y=append['labels'].str.get_dummies(sep=' ')\n",
    "y_train_vect = y_train.str.get_dummies(sep=' ')\n",
    "y_val_vect = y_val.str.get_dummies(sep=' ')\n",
    "y_test_vect = y_test.str.get_dummies(sep=' ')"
   ]
  },
  {
   "cell_type": "code",
   "execution_count": null,
   "metadata": {
    "collapsed": true
   },
   "outputs": [],
   "source": [
    "x_train_vect = []\n",
    "\n",
    "for i in x_train:\n",
    "    a= int(i)\n",
    "    #print (\"reading image:\"+str(a) + \".jpg\")\n",
    "    img = ('D:/Share_Folder/Pace_3rd_Sem/Big_Data_Analytics/Project Files/train_photos/'  + str(a) + \".jpg\")\n",
    "    img = cv2.imread(img)\n",
    "    img = cv2.resize(img,(100,100))\n",
    "    img = img.transpose((2,0,1))\n",
    "    # img = io.imread(img)\n",
    "    # img = resize(img,(100,100))\n",
    "    # img = img.transpose()\n",
    "    x_train_vect.append(img)\n",
    "\n",
    "x_train_vect = np.array(x_train_vect)\n",
    "\n",
    "f = h5py.File(\"trainyelp.h5\")\n",
    "f['x'] = x_train_vect\n",
    "f['y'] = y_train_vect\n",
    "f.close()"
   ]
  },
  {
   "cell_type": "code",
   "execution_count": null,
   "metadata": {
    "collapsed": true
   },
   "outputs": [],
   "source": [
    "train = h5py.File(\"trainyelp.h5\",\"r\")\n",
    "x_train = train['x'].value\n",
    "y_train = train['y'].value\n",
    "train.close()\n"
   ]
  },
  {
   "cell_type": "code",
   "execution_count": null,
   "metadata": {
    "collapsed": true
   },
   "outputs": [],
   "source": [
    "val = h5py.File(\"valyelp.h5\",\"r\")\n",
    "x_val = val['x'].value\n",
    "y_val = val['y'].value\n",
    "val.close()"
   ]
  },
  {
   "cell_type": "code",
   "execution_count": null,
   "metadata": {
    "collapsed": true
   },
   "outputs": [],
   "source": [
    "x_train_float = x_train.astype('float32')\n",
    "x_val_float  = x_val.astype('float32')\n",
    "#x_test = x_test.astype('float32')\n",
    "\n",
    "x_train_float /= 255\n",
    "x_val_float /= 255\n",
    "#x_test /= 255\n"
   ]
  },
  {
   "cell_type": "code",
   "execution_count": null,
   "metadata": {
    "collapsed": true
   },
   "outputs": [],
   "source": [
    "len(x_train_float),len(y_train)\n"
   ]
  },
  {
   "cell_type": "code",
   "execution_count": null,
   "metadata": {
    "collapsed": true
   },
   "outputs": [],
   "source": [
    "len(x_val_float),len(y_val)\n"
   ]
  },
  {
   "cell_type": "code",
   "execution_count": null,
   "metadata": {
    "collapsed": true
   },
   "outputs": [],
   "source": [
    "from keras.optimizers import Adam"
   ]
  },
  {
   "cell_type": "code",
   "execution_count": null,
   "metadata": {
    "collapsed": true
   },
   "outputs": [],
   "source": [
    "model = Sequential()\n",
    "model.add(Convolution2D(32, kernel_size=(5, 5),padding='same',input_shape=(3 , 100, 100)))\n",
    "model.add(Activation('relu'))\n",
    "model.add(Convolution2D(64, (3, 3)))\n",
    "model.add(Activation('relu'))\n",
    "model.add(MaxPooling2D(pool_size=(2, 2)))\n",
    "model.add(Dropout(0.25))\n",
    "\n",
    "'''model.add(Convolution2D(64,(3, 3), padding='same'))\n",
    "model.add(Activation('relu'))'''\n",
    "model.add(Convolution2D(64, 3, 3))\n",
    "model.add(Activation('relu'))\n",
    "model.add(MaxPooling2D(pool_size=(2, 2)))\n",
    "model.add(Dropout(0.25))\n",
    "\n",
    "model.add(Flatten())\n",
    "model.add(Dense(512))\n",
    "model.add(Activation('relu'))\n",
    "model.add(Dropout(0.5))\n",
    "model.add(Dense(9))\n",
    "model.add(Activation('sigmoid'))\n",
    "\n",
    "\n"
   ]
  },
  {
   "cell_type": "code",
   "execution_count": null,
   "metadata": {
    "collapsed": true
   },
   "outputs": [],
   "source": [
    "# let's train the model using SGD + momentum (how original).\n",
    "#sgd = SGD(lr=0.01, decay=1e-6, momentum=0.9, nesterov=True)\n",
    "ada = Adam(lr=0.001, beta_1=0.9, beta_2=0.999, epsilon=1e-08, decay=0.0)\n",
    "model.compile(loss='binary_crossentropy', optimizer=ada, metrics=['accuracy'])\n",
    "\n",
    "# model.load_weights(\"weights.16-0.86800.hdf5\")"
   ]
  },
  {
   "cell_type": "code",
   "execution_count": null,
   "metadata": {
    "collapsed": true
   },
   "outputs": [],
   "source": [
    "check = ModelCheckpoint(\"weights.{epoch:02d}-{val_acc:.5f}.hdf5\", monitor='val_acc', verbose=1, save_best_only=True, save_weights_only=True, mode='auto')"
   ]
  },
  {
   "cell_type": "code",
   "execution_count": null,
   "metadata": {
    "collapsed": true
   },
   "outputs": [],
   "source": []
  }
 ],
 "metadata": {
  "kernelspec": {
   "display_name": "Python 3",
   "language": "python",
   "name": "python3"
  },
  "language_info": {
   "codemirror_mode": {
    "name": "ipython",
    "version": 3
   },
   "file_extension": ".py",
   "mimetype": "text/x-python",
   "name": "python",
   "nbconvert_exporter": "python",
   "pygments_lexer": "ipython3",
   "version": "3.6.3"
  }
 },
 "nbformat": 4,
 "nbformat_minor": 2
}
